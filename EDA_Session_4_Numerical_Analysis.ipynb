{
 "cells": [
  {
   "cell_type": "markdown",
   "id": "2b9e25e6-f14f-403b-9733-0bbf366f7d36",
   "metadata": {},
   "source": [
    "**Import packages**"
   ]
  },
  {
   "cell_type": "code",
   "execution_count": 1,
   "id": "67bf44c6-ca2d-4a55-a018-63066e6d25bd",
   "metadata": {},
   "outputs": [],
   "source": [
    "import numpy as np\n",
    "import pandas as pd\n",
    "import matplotlib.pyplot as plt\n",
    "import seaborn as sns"
   ]
  },
  {
   "cell_type": "markdown",
   "id": "8d521791-2105-4049-8960-5b5c7b386131",
   "metadata": {},
   "source": [
    "**read the data**"
   ]
  },
  {
   "cell_type": "code",
   "execution_count": 2,
   "id": "9705ca3f-a3e0-4340-9ceb-fd3ed75e8ea4",
   "metadata": {},
   "outputs": [
    {
     "data": {
      "text/html": [
       "<div>\n",
       "<style scoped>\n",
       "    .dataframe tbody tr th:only-of-type {\n",
       "        vertical-align: middle;\n",
       "    }\n",
       "\n",
       "    .dataframe tbody tr th {\n",
       "        vertical-align: top;\n",
       "    }\n",
       "\n",
       "    .dataframe thead th {\n",
       "        text-align: right;\n",
       "    }\n",
       "</style>\n",
       "<table border=\"1\" class=\"dataframe\">\n",
       "  <thead>\n",
       "    <tr style=\"text-align: right;\">\n",
       "      <th></th>\n",
       "      <th>case_id</th>\n",
       "      <th>continent</th>\n",
       "      <th>education_of_employee</th>\n",
       "      <th>has_job_experience</th>\n",
       "      <th>requires_job_training</th>\n",
       "      <th>no_of_employees</th>\n",
       "      <th>yr_of_estab</th>\n",
       "      <th>region_of_employment</th>\n",
       "      <th>prevailing_wage</th>\n",
       "      <th>unit_of_wage</th>\n",
       "      <th>full_time_position</th>\n",
       "      <th>case_status</th>\n",
       "    </tr>\n",
       "  </thead>\n",
       "  <tbody>\n",
       "    <tr>\n",
       "      <th>0</th>\n",
       "      <td>EZYV01</td>\n",
       "      <td>Asia</td>\n",
       "      <td>High School</td>\n",
       "      <td>N</td>\n",
       "      <td>N</td>\n",
       "      <td>14513</td>\n",
       "      <td>2007</td>\n",
       "      <td>West</td>\n",
       "      <td>592.2029</td>\n",
       "      <td>Hour</td>\n",
       "      <td>Y</td>\n",
       "      <td>Denied</td>\n",
       "    </tr>\n",
       "    <tr>\n",
       "      <th>1</th>\n",
       "      <td>EZYV02</td>\n",
       "      <td>Asia</td>\n",
       "      <td>Master's</td>\n",
       "      <td>Y</td>\n",
       "      <td>N</td>\n",
       "      <td>2412</td>\n",
       "      <td>2002</td>\n",
       "      <td>Northeast</td>\n",
       "      <td>83425.6500</td>\n",
       "      <td>Year</td>\n",
       "      <td>Y</td>\n",
       "      <td>Certified</td>\n",
       "    </tr>\n",
       "    <tr>\n",
       "      <th>2</th>\n",
       "      <td>EZYV03</td>\n",
       "      <td>Asia</td>\n",
       "      <td>Bachelor's</td>\n",
       "      <td>N</td>\n",
       "      <td>Y</td>\n",
       "      <td>44444</td>\n",
       "      <td>2008</td>\n",
       "      <td>West</td>\n",
       "      <td>122996.8600</td>\n",
       "      <td>Year</td>\n",
       "      <td>Y</td>\n",
       "      <td>Denied</td>\n",
       "    </tr>\n",
       "    <tr>\n",
       "      <th>3</th>\n",
       "      <td>EZYV04</td>\n",
       "      <td>Asia</td>\n",
       "      <td>Bachelor's</td>\n",
       "      <td>N</td>\n",
       "      <td>N</td>\n",
       "      <td>98</td>\n",
       "      <td>1897</td>\n",
       "      <td>West</td>\n",
       "      <td>83434.0300</td>\n",
       "      <td>Year</td>\n",
       "      <td>Y</td>\n",
       "      <td>Denied</td>\n",
       "    </tr>\n",
       "    <tr>\n",
       "      <th>4</th>\n",
       "      <td>EZYV05</td>\n",
       "      <td>Africa</td>\n",
       "      <td>Master's</td>\n",
       "      <td>Y</td>\n",
       "      <td>N</td>\n",
       "      <td>1082</td>\n",
       "      <td>2005</td>\n",
       "      <td>South</td>\n",
       "      <td>149907.3900</td>\n",
       "      <td>Year</td>\n",
       "      <td>Y</td>\n",
       "      <td>Certified</td>\n",
       "    </tr>\n",
       "  </tbody>\n",
       "</table>\n",
       "</div>"
      ],
      "text/plain": [
       "  case_id continent education_of_employee has_job_experience  \\\n",
       "0  EZYV01      Asia           High School                  N   \n",
       "1  EZYV02      Asia              Master's                  Y   \n",
       "2  EZYV03      Asia            Bachelor's                  N   \n",
       "3  EZYV04      Asia            Bachelor's                  N   \n",
       "4  EZYV05    Africa              Master's                  Y   \n",
       "\n",
       "  requires_job_training  no_of_employees  yr_of_estab region_of_employment  \\\n",
       "0                     N            14513         2007                 West   \n",
       "1                     N             2412         2002            Northeast   \n",
       "2                     Y            44444         2008                 West   \n",
       "3                     N               98         1897                 West   \n",
       "4                     N             1082         2005                South   \n",
       "\n",
       "   prevailing_wage unit_of_wage full_time_position case_status  \n",
       "0         592.2029         Hour                  Y      Denied  \n",
       "1       83425.6500         Year                  Y   Certified  \n",
       "2      122996.8600         Year                  Y      Denied  \n",
       "3       83434.0300         Year                  Y      Denied  \n",
       "4      149907.3900         Year                  Y   Certified  "
      ]
     },
     "execution_count": 2,
     "metadata": {},
     "output_type": "execute_result"
    }
   ],
   "source": [
    "visa_df=pd.read_csv(\"Visadataset.csv\")\n",
    "visa_df.head()"
   ]
  },
  {
   "cell_type": "markdown",
   "id": "7b472443-c6ed-4960-a9f1-fc0232304784",
   "metadata": {},
   "source": [
    "**Convert numerical and Categorical Columns**"
   ]
  },
  {
   "cell_type": "code",
   "execution_count": 3,
   "id": "630bda8e-37f8-49e3-b27a-04f85cab4371",
   "metadata": {},
   "outputs": [
    {
     "data": {
      "text/plain": [
       "Index(['no_of_employees', 'yr_of_estab', 'prevailing_wage'], dtype='object')"
      ]
     },
     "execution_count": 3,
     "metadata": {},
     "output_type": "execute_result"
    }
   ],
   "source": [
    "cat_columns=visa_df.select_dtypes(include='object').columns\n",
    "num_columns=visa_df.select_dtypes(exclude='object').columns\n",
    "num_columns"
   ]
  },
  {
   "cell_type": "markdown",
   "id": "9001f6ea-398c-4aa4-8379-c0db0a3c1b13",
   "metadata": {},
   "source": [
    "**prevailing_wage**"
   ]
  },
  {
   "cell_type": "code",
   "execution_count": 9,
   "id": "98a37ef6-63d0-48e7-baa5-e0a3c66d6f7b",
   "metadata": {},
   "outputs": [
    {
     "data": {
      "text/html": [
       "<div>\n",
       "<style scoped>\n",
       "    .dataframe tbody tr th:only-of-type {\n",
       "        vertical-align: middle;\n",
       "    }\n",
       "\n",
       "    .dataframe tbody tr th {\n",
       "        vertical-align: top;\n",
       "    }\n",
       "\n",
       "    .dataframe thead th {\n",
       "        text-align: right;\n",
       "    }\n",
       "</style>\n",
       "<table border=\"1\" class=\"dataframe\">\n",
       "  <thead>\n",
       "    <tr style=\"text-align: right;\">\n",
       "      <th></th>\n",
       "      <th>prevailing_wage</th>\n",
       "    </tr>\n",
       "  </thead>\n",
       "  <tbody>\n",
       "    <tr>\n",
       "      <th>0</th>\n",
       "      <td>592.2029</td>\n",
       "    </tr>\n",
       "    <tr>\n",
       "      <th>1</th>\n",
       "      <td>83425.6500</td>\n",
       "    </tr>\n",
       "    <tr>\n",
       "      <th>2</th>\n",
       "      <td>122996.8600</td>\n",
       "    </tr>\n",
       "    <tr>\n",
       "      <th>3</th>\n",
       "      <td>83434.0300</td>\n",
       "    </tr>\n",
       "    <tr>\n",
       "      <th>4</th>\n",
       "      <td>149907.3900</td>\n",
       "    </tr>\n",
       "    <tr>\n",
       "      <th>...</th>\n",
       "      <td>...</td>\n",
       "    </tr>\n",
       "    <tr>\n",
       "      <th>25475</th>\n",
       "      <td>77092.5700</td>\n",
       "    </tr>\n",
       "    <tr>\n",
       "      <th>25476</th>\n",
       "      <td>279174.7900</td>\n",
       "    </tr>\n",
       "    <tr>\n",
       "      <th>25477</th>\n",
       "      <td>146298.8500</td>\n",
       "    </tr>\n",
       "    <tr>\n",
       "      <th>25478</th>\n",
       "      <td>86154.7700</td>\n",
       "    </tr>\n",
       "    <tr>\n",
       "      <th>25479</th>\n",
       "      <td>70876.9100</td>\n",
       "    </tr>\n",
       "  </tbody>\n",
       "</table>\n",
       "<p>25480 rows × 1 columns</p>\n",
       "</div>"
      ],
      "text/plain": [
       "       prevailing_wage\n",
       "0             592.2029\n",
       "1           83425.6500\n",
       "2          122996.8600\n",
       "3           83434.0300\n",
       "4          149907.3900\n",
       "...                ...\n",
       "25475       77092.5700\n",
       "25476      279174.7900\n",
       "25477      146298.8500\n",
       "25478       86154.7700\n",
       "25479       70876.9100\n",
       "\n",
       "[25480 rows x 1 columns]"
      ]
     },
     "execution_count": 9,
     "metadata": {},
     "output_type": "execute_result"
    }
   ],
   "source": [
    "visa_df.loc[:,'prevailing_wage']\n",
    "visa_df.iloc[:,[8]]\n",
    "visa_df['prevailing_wage']\n",
    "visa_df[['prevailing_wage']]"
   ]
  },
  {
   "cell_type": "markdown",
   "id": "ae53c119-701b-4161-b901-53a078b40356",
   "metadata": {},
   "source": [
    "- len\n",
    "\n",
    "- min\n",
    "\n",
    "- max\n",
    "\n",
    "- average (mean)\n",
    "\n",
    "- stanrdard deviation std\n",
    "\n",
    "- median\n",
    "\n",
    "- 25p\n",
    "\n",
    "- 50p\n",
    "\n",
    "- 75p"
   ]
  },
  {
   "cell_type": "markdown",
   "id": "70bee716-879d-4c42-ae50-bdb39ec304f2",
   "metadata": {},
   "source": [
    "**length**"
   ]
  },
  {
   "cell_type": "code",
   "execution_count": 10,
   "id": "ade4557b-6f9a-47c4-b7aa-24cbc7530446",
   "metadata": {},
   "outputs": [
    {
     "data": {
      "text/plain": [
       "25480"
      ]
     },
     "execution_count": 10,
     "metadata": {},
     "output_type": "execute_result"
    }
   ],
   "source": [
    "len(visa_df['prevailing_wage'])"
   ]
  },
  {
   "cell_type": "code",
   "execution_count": 11,
   "id": "37bdc392-a26d-4a16-bc42-87e879e443c2",
   "metadata": {},
   "outputs": [
    {
     "data": {
      "text/html": [
       "<div>\n",
       "<style scoped>\n",
       "    .dataframe tbody tr th:only-of-type {\n",
       "        vertical-align: middle;\n",
       "    }\n",
       "\n",
       "    .dataframe tbody tr th {\n",
       "        vertical-align: top;\n",
       "    }\n",
       "\n",
       "    .dataframe thead th {\n",
       "        text-align: right;\n",
       "    }\n",
       "</style>\n",
       "<table border=\"1\" class=\"dataframe\">\n",
       "  <thead>\n",
       "    <tr style=\"text-align: right;\">\n",
       "      <th></th>\n",
       "      <th>education_of_employee</th>\n",
       "      <th>has_job_experience</th>\n",
       "      <th>requires_job_training</th>\n",
       "    </tr>\n",
       "  </thead>\n",
       "  <tbody>\n",
       "    <tr>\n",
       "      <th>3</th>\n",
       "      <td>Bachelor's</td>\n",
       "      <td>N</td>\n",
       "      <td>N</td>\n",
       "    </tr>\n",
       "    <tr>\n",
       "      <th>4</th>\n",
       "      <td>Master's</td>\n",
       "      <td>Y</td>\n",
       "      <td>N</td>\n",
       "    </tr>\n",
       "    <tr>\n",
       "      <th>5</th>\n",
       "      <td>Master's</td>\n",
       "      <td>Y</td>\n",
       "      <td>N</td>\n",
       "    </tr>\n",
       "    <tr>\n",
       "      <th>6</th>\n",
       "      <td>Bachelor's</td>\n",
       "      <td>N</td>\n",
       "      <td>N</td>\n",
       "    </tr>\n",
       "  </tbody>\n",
       "</table>\n",
       "</div>"
      ],
      "text/plain": [
       "  education_of_employee has_job_experience requires_job_training\n",
       "3            Bachelor's                  N                     N\n",
       "4              Master's                  Y                     N\n",
       "5              Master's                  Y                     N\n",
       "6            Bachelor's                  N                     N"
      ]
     },
     "execution_count": 11,
     "metadata": {},
     "output_type": "execute_result"
    }
   ],
   "source": [
    "#visa_df.iloc[rows,columns]\n",
    "\n",
    "#start: stop:step\n",
    "#vis_df.iloc[3:7,2:5]\n",
    "\n",
    "# row 3  4  5  6\n",
    "# col 2 3 4\n",
    "visa_df.iloc[3:7,2:5]"
   ]
  },
  {
   "cell_type": "markdown",
   "id": "d147e05d-fc86-46b6-bb72-7c89e91c3031",
   "metadata": {},
   "source": [
    "**min**"
   ]
  },
  {
   "cell_type": "code",
   "execution_count": 12,
   "id": "b0a8a87e-8168-46c6-90cf-d5e6b944a677",
   "metadata": {},
   "outputs": [
    {
     "data": {
      "text/plain": [
       "2.1367"
      ]
     },
     "execution_count": 12,
     "metadata": {},
     "output_type": "execute_result"
    }
   ],
   "source": [
    "min(visa_df['prevailing_wage'])"
   ]
  },
  {
   "cell_type": "code",
   "execution_count": 13,
   "id": "e1d048de-86bf-4587-8f63-17eafc933e63",
   "metadata": {},
   "outputs": [
    {
     "data": {
      "text/plain": [
       "319210.27"
      ]
     },
     "execution_count": 13,
     "metadata": {},
     "output_type": "execute_result"
    }
   ],
   "source": [
    "max(visa_df['prevailing_wage'])"
   ]
  },
  {
   "cell_type": "code",
   "execution_count": 14,
   "id": "f0615ffc-1dee-48f7-bc69-5702741d23fa",
   "metadata": {},
   "outputs": [
    {
     "name": "stdout",
     "output_type": "stream",
     "text": [
      "the number of wage samples are: 25480\n",
      "the minimum wage is: 2.1367\n",
      "the maximu wage is: 319210.27\n"
     ]
    }
   ],
   "source": [
    "count=len(visa_df['prevailing_wage'])\n",
    "min_wage=min(visa_df['prevailing_wage'])\n",
    "max_wage=max(visa_df['prevailing_wage'])\n",
    "print(\"the number of wage samples are:\",count)\n",
    "print(\"the minimum wage is:\",min_wage)\n",
    "print(\"the maximu wage is:\",max_wage)"
   ]
  },
  {
   "cell_type": "markdown",
   "id": "adb794f8-1f73-4716-a1f6-e522d9090792",
   "metadata": {},
   "source": [
    "**mean**"
   ]
  },
  {
   "cell_type": "code",
   "execution_count": 15,
   "id": "d93ebd15-5a51-43ad-a873-8e45fbcde5c7",
   "metadata": {},
   "outputs": [
    {
     "data": {
      "text/plain": [
       "prevailing_wage    74455.814592\n",
       "dtype: float64"
      ]
     },
     "execution_count": 15,
     "metadata": {},
     "output_type": "execute_result"
    }
   ],
   "source": [
    "visa_df[['prevailing_wage']].mean()"
   ]
  },
  {
   "cell_type": "code",
   "execution_count": 16,
   "id": "c1b06222-991d-464f-a47a-b15cabde3055",
   "metadata": {},
   "outputs": [
    {
     "data": {
      "text/plain": [
       "74455.81459209183"
      ]
     },
     "execution_count": 16,
     "metadata": {},
     "output_type": "execute_result"
    }
   ],
   "source": [
    "visa_df['prevailing_wage'].mean()"
   ]
  },
  {
   "cell_type": "markdown",
   "id": "ff6b6f3f-1d70-43a7-8a7c-5014af60bafd",
   "metadata": {},
   "source": [
    "**Median**"
   ]
  },
  {
   "cell_type": "code",
   "execution_count": 17,
   "id": "fdbfdf0f-b008-473f-b5fa-db6cc893a1f3",
   "metadata": {},
   "outputs": [
    {
     "data": {
      "text/plain": [
       "70308.20999999999"
      ]
     },
     "execution_count": 17,
     "metadata": {},
     "output_type": "execute_result"
    }
   ],
   "source": [
    "visa_df['prevailing_wage'].median()"
   ]
  },
  {
   "cell_type": "code",
   "execution_count": 18,
   "id": "99730d6f-f32d-4c1f-bfa7-311591e7ec64",
   "metadata": {},
   "outputs": [
    {
     "name": "stdout",
     "output_type": "stream",
     "text": [
      "The average wage is: 74455.81\n",
      "The median wage is: 70308.21\n"
     ]
    }
   ],
   "source": [
    "mean_wage=round(visa_df['prevailing_wage'].mean(),2)\n",
    "median_wage=round(visa_df['prevailing_wage'].median(),2)\n",
    "print(\"The average wage is:\",mean_wage)\n",
    "print(\"The median wage is:\",median_wage)"
   ]
  },
  {
   "cell_type": "markdown",
   "id": "34b47e8e-e0c7-4ea5-a1ee-d873309ecdd1",
   "metadata": {},
   "source": [
    "- Mode is not a suitable metric for numerical analysis\n",
    "\n",
    "- Different observations can have same values"
   ]
  },
  {
   "cell_type": "markdown",
   "id": "ccced302-f2bc-4b00-9aa9-79d10e698176",
   "metadata": {},
   "source": [
    "**Using numpy**"
   ]
  },
  {
   "cell_type": "code",
   "execution_count": 19,
   "id": "60c471ea-22f0-413d-abb6-fddfdbc3bbbe",
   "metadata": {},
   "outputs": [
    {
     "data": {
      "text/plain": [
       "74455.81459209183"
      ]
     },
     "execution_count": 19,
     "metadata": {},
     "output_type": "execute_result"
    }
   ],
   "source": [
    "np.mean(visa_df['prevailing_wage'])"
   ]
  },
  {
   "cell_type": "code",
   "execution_count": 20,
   "id": "7d0b4cbd-cb4e-44c6-a03b-99ba4a7cf771",
   "metadata": {},
   "outputs": [
    {
     "data": {
      "text/plain": [
       "70308.20999999999"
      ]
     },
     "execution_count": 20,
     "metadata": {},
     "output_type": "execute_result"
    }
   ],
   "source": [
    "np.median(visa_df['prevailing_wage'])"
   ]
  },
  {
   "cell_type": "markdown",
   "id": "b153245a-ea46-445b-a668-0025fe266b70",
   "metadata": {},
   "source": [
    "**Std**"
   ]
  },
  {
   "cell_type": "code",
   "execution_count": 22,
   "id": "e2a93b5f-89aa-45f3-b5d0-b1be79f4cf88",
   "metadata": {},
   "outputs": [
    {
     "data": {
      "text/plain": [
       "52815.94"
      ]
     },
     "execution_count": 22,
     "metadata": {},
     "output_type": "execute_result"
    }
   ],
   "source": [
    "std_wage=round(visa_df['prevailing_wage'].std(),2)\n",
    "std_wage"
   ]
  },
  {
   "cell_type": "code",
   "execution_count": 24,
   "id": "006814ae-b948-4ab2-9f20-de4ce3969c2f",
   "metadata": {},
   "outputs": [],
   "source": [
    "#visa_df['prevailing_wage'].mode()"
   ]
  },
  {
   "cell_type": "code",
   "execution_count": 25,
   "id": "8b545015-2040-45ff-a342-dcbf01dda07a",
   "metadata": {},
   "outputs": [
    {
     "name": "stdout",
     "output_type": "stream",
     "text": [
      "the number of wage samples are: 25480\n"
     ]
    }
   ],
   "source": [
    "count_wage=len(visa_df['prevailing_wage'])\n",
    "min_wage=min(visa_df['prevailing_wage'])\n",
    "max_wage=max(visa_df['prevailing_wage'])\n",
    "mean_wage=round(visa_df['prevailing_wage'].mean(),2)\n",
    "median_wage=round(visa_df['prevailing_wage'].median(),2)\n",
    "std_wage=round(visa_df['prevailing_wage'].std(),2)"
   ]
  },
  {
   "cell_type": "code",
   "execution_count": 27,
   "id": "70b05a5d-280e-478a-a532-d8e8f3a0c6cb",
   "metadata": {},
   "outputs": [
    {
     "data": {
      "text/html": [
       "<div>\n",
       "<style scoped>\n",
       "    .dataframe tbody tr th:only-of-type {\n",
       "        vertical-align: middle;\n",
       "    }\n",
       "\n",
       "    .dataframe tbody tr th {\n",
       "        vertical-align: top;\n",
       "    }\n",
       "\n",
       "    .dataframe thead th {\n",
       "        text-align: right;\n",
       "    }\n",
       "</style>\n",
       "<table border=\"1\" class=\"dataframe\">\n",
       "  <thead>\n",
       "    <tr style=\"text-align: right;\">\n",
       "      <th></th>\n",
       "      <th>prevailing_wage</th>\n",
       "    </tr>\n",
       "  </thead>\n",
       "  <tbody>\n",
       "    <tr>\n",
       "      <th>count</th>\n",
       "      <td>25480.0000</td>\n",
       "    </tr>\n",
       "    <tr>\n",
       "      <th>min</th>\n",
       "      <td>2.1367</td>\n",
       "    </tr>\n",
       "    <tr>\n",
       "      <th>max</th>\n",
       "      <td>319210.2700</td>\n",
       "    </tr>\n",
       "    <tr>\n",
       "      <th>mean</th>\n",
       "      <td>74455.8100</td>\n",
       "    </tr>\n",
       "    <tr>\n",
       "      <th>median</th>\n",
       "      <td>70308.2100</td>\n",
       "    </tr>\n",
       "    <tr>\n",
       "      <th>std</th>\n",
       "      <td>52815.9400</td>\n",
       "    </tr>\n",
       "  </tbody>\n",
       "</table>\n",
       "</div>"
      ],
      "text/plain": [
       "        prevailing_wage\n",
       "count        25480.0000\n",
       "min              2.1367\n",
       "max         319210.2700\n",
       "mean         74455.8100\n",
       "median       70308.2100\n",
       "std          52815.9400"
      ]
     },
     "execution_count": 27,
     "metadata": {},
     "output_type": "execute_result"
    }
   ],
   "source": [
    "# Step-1: Create a empty list , keep all the values in a list\n",
    "# Step-2: create a index list= ['Count','min','max']\n",
    "# Step-3: create a cols list = ['pwage']\n",
    "values=[count_wage,min_wage,max_wage,\n",
    "        mean_wage,median_wage,std_wage]\n",
    "index=['count','min','max','mean','median','std']\n",
    "cols=['prevailing_wage']\n",
    "wage_df=pd.DataFrame(values,index=index,columns=cols)\n",
    "wage_df"
   ]
  },
  {
   "cell_type": "code",
   "execution_count": 28,
   "id": "b4ef4140-43ee-48fd-98a0-5cf9b892f463",
   "metadata": {},
   "outputs": [
    {
     "data": {
      "text/html": [
       "<div>\n",
       "<style scoped>\n",
       "    .dataframe tbody tr th:only-of-type {\n",
       "        vertical-align: middle;\n",
       "    }\n",
       "\n",
       "    .dataframe tbody tr th {\n",
       "        vertical-align: top;\n",
       "    }\n",
       "\n",
       "    .dataframe thead th {\n",
       "        text-align: right;\n",
       "    }\n",
       "</style>\n",
       "<table border=\"1\" class=\"dataframe\">\n",
       "  <thead>\n",
       "    <tr style=\"text-align: right;\">\n",
       "      <th></th>\n",
       "      <th>no_of_employees</th>\n",
       "      <th>yr_of_estab</th>\n",
       "      <th>prevailing_wage</th>\n",
       "    </tr>\n",
       "  </thead>\n",
       "  <tbody>\n",
       "    <tr>\n",
       "      <th>count</th>\n",
       "      <td>25480.000000</td>\n",
       "      <td>25480.000000</td>\n",
       "      <td>25480.000000</td>\n",
       "    </tr>\n",
       "    <tr>\n",
       "      <th>mean</th>\n",
       "      <td>5667.043210</td>\n",
       "      <td>1979.409929</td>\n",
       "      <td>74455.814592</td>\n",
       "    </tr>\n",
       "    <tr>\n",
       "      <th>std</th>\n",
       "      <td>22877.928848</td>\n",
       "      <td>42.366929</td>\n",
       "      <td>52815.942327</td>\n",
       "    </tr>\n",
       "    <tr>\n",
       "      <th>min</th>\n",
       "      <td>-26.000000</td>\n",
       "      <td>1800.000000</td>\n",
       "      <td>2.136700</td>\n",
       "    </tr>\n",
       "    <tr>\n",
       "      <th>25%</th>\n",
       "      <td>1022.000000</td>\n",
       "      <td>1976.000000</td>\n",
       "      <td>34015.480000</td>\n",
       "    </tr>\n",
       "    <tr>\n",
       "      <th>50%</th>\n",
       "      <td>2109.000000</td>\n",
       "      <td>1997.000000</td>\n",
       "      <td>70308.210000</td>\n",
       "    </tr>\n",
       "    <tr>\n",
       "      <th>75%</th>\n",
       "      <td>3504.000000</td>\n",
       "      <td>2005.000000</td>\n",
       "      <td>107735.512500</td>\n",
       "    </tr>\n",
       "    <tr>\n",
       "      <th>max</th>\n",
       "      <td>602069.000000</td>\n",
       "      <td>2016.000000</td>\n",
       "      <td>319210.270000</td>\n",
       "    </tr>\n",
       "  </tbody>\n",
       "</table>\n",
       "</div>"
      ],
      "text/plain": [
       "       no_of_employees   yr_of_estab  prevailing_wage\n",
       "count     25480.000000  25480.000000     25480.000000\n",
       "mean       5667.043210   1979.409929     74455.814592\n",
       "std       22877.928848     42.366929     52815.942327\n",
       "min         -26.000000   1800.000000         2.136700\n",
       "25%        1022.000000   1976.000000     34015.480000\n",
       "50%        2109.000000   1997.000000     70308.210000\n",
       "75%        3504.000000   2005.000000    107735.512500\n",
       "max      602069.000000   2016.000000    319210.270000"
      ]
     },
     "execution_count": 28,
     "metadata": {},
     "output_type": "execute_result"
    }
   ],
   "source": [
    "visa_df.describe()"
   ]
  },
  {
   "cell_type": "code",
   "execution_count": 29,
   "id": "803fe9be-8419-45d9-86b0-c0b5aaf80a1d",
   "metadata": {},
   "outputs": [
    {
     "data": {
      "text/plain": [
       "continent\n",
       "Asia             16861\n",
       "Europe            3732\n",
       "North America     3292\n",
       "South America      852\n",
       "Africa             551\n",
       "Oceania            192\n",
       "Name: count, dtype: int64"
      ]
     },
     "execution_count": 29,
     "metadata": {},
     "output_type": "execute_result"
    }
   ],
   "source": [
    "visa_df['continent'].value_counts()"
   ]
  },
  {
   "cell_type": "markdown",
   "id": "45d7477a-7dab-4d1d-9234-1f5d2fc42c38",
   "metadata": {},
   "source": [
    "**25p-50p-75p**"
   ]
  },
  {
   "cell_type": "markdown",
   "id": "f3184b7f-b68c-44af-8625-6b48f301f1c1",
   "metadata": {},
   "source": [
    "**percentile**\n",
    "\n",
    "- In numpy we have percentile \n",
    "\n",
    "- the method is np.percentile()\n",
    "\n",
    "    - It takes the two arguments\n",
    "\n",
    "    - a : array means data \n",
    "\n",
    "    - q value which percentile data we want , that value we need to provide\n",
    "\n",
    "    - if we want 25p value then q=25\n",
    "\n",
    "**quantile**\n",
    "\n",
    "- In numpy we have quantile method\n",
    "\n",
    "- the method is np.quantile()\n",
    "\n",
    " - It takes the two arguments\n",
    "\n",
    "    - a : array means data \n",
    "\n",
    "    - q value which percentile data we want , that value we need to provide\n",
    "\n",
    "    - if we want 25p value then q=0.25\n",
    "\n",
    "    - if we want 50p value then q=0.50"
   ]
  },
  {
   "cell_type": "code",
   "execution_count": 32,
   "id": "a189e50e-e6be-4004-9821-896ce31761d5",
   "metadata": {},
   "outputs": [
    {
     "data": {
      "text/plain": [
       "42032.848999999995"
      ]
     },
     "execution_count": 32,
     "metadata": {},
     "output_type": "execute_result"
    }
   ],
   "source": [
    "np.percentile(visa_df['prevailing_wage'],30)\n",
    "# 0 to 100"
   ]
  },
  {
   "cell_type": "code",
   "execution_count": 35,
   "id": "bf1c49cb-f892-41c8-b1ed-72f5b8c2476e",
   "metadata": {},
   "outputs": [
    {
     "data": {
      "text/plain": [
       "34015.479999999996"
      ]
     },
     "execution_count": 35,
     "metadata": {},
     "output_type": "execute_result"
    }
   ],
   "source": [
    "np.quantile(visa_df['prevailing_wage'],0.25)\n",
    "# 0 to 1"
   ]
  },
  {
   "cell_type": "code",
   "execution_count": 38,
   "id": "61a66f45-19ca-4d46-9fed-dfb44cdfe2cf",
   "metadata": {},
   "outputs": [
    {
     "name": "stdout",
     "output_type": "stream",
     "text": [
      "25p value is: 34015.48\n",
      "50p value is: 70308.21\n",
      "75p value is: 107735.51\n"
     ]
    }
   ],
   "source": [
    "wage_25p=round(np.percentile(visa_df['prevailing_wage'],25),2)\n",
    "wage_50p=round(np.percentile(visa_df['prevailing_wage'],50),2)\n",
    "wage_75p=round(np.percentile(visa_df['prevailing_wage'],75),2)\n",
    "print(\"25p value is:\",wage_25p)\n",
    "print(\"50p value is:\",wage_50p)\n",
    "print(\"75p value is:\",wage_75p)"
   ]
  },
  {
   "cell_type": "code",
   "execution_count": 39,
   "id": "8d9de2a4-5bca-45e1-8e44-124ff1e8e161",
   "metadata": {},
   "outputs": [
    {
     "data": {
      "text/html": [
       "<div>\n",
       "<style scoped>\n",
       "    .dataframe tbody tr th:only-of-type {\n",
       "        vertical-align: middle;\n",
       "    }\n",
       "\n",
       "    .dataframe tbody tr th {\n",
       "        vertical-align: top;\n",
       "    }\n",
       "\n",
       "    .dataframe thead th {\n",
       "        text-align: right;\n",
       "    }\n",
       "</style>\n",
       "<table border=\"1\" class=\"dataframe\">\n",
       "  <thead>\n",
       "    <tr style=\"text-align: right;\">\n",
       "      <th></th>\n",
       "      <th>prevailing_wage</th>\n",
       "    </tr>\n",
       "  </thead>\n",
       "  <tbody>\n",
       "    <tr>\n",
       "      <th>count</th>\n",
       "      <td>25480.0000</td>\n",
       "    </tr>\n",
       "    <tr>\n",
       "      <th>min</th>\n",
       "      <td>2.1367</td>\n",
       "    </tr>\n",
       "    <tr>\n",
       "      <th>max</th>\n",
       "      <td>319210.2700</td>\n",
       "    </tr>\n",
       "    <tr>\n",
       "      <th>mean</th>\n",
       "      <td>74455.8100</td>\n",
       "    </tr>\n",
       "    <tr>\n",
       "      <th>median</th>\n",
       "      <td>70308.2100</td>\n",
       "    </tr>\n",
       "    <tr>\n",
       "      <th>std</th>\n",
       "      <td>52815.9400</td>\n",
       "    </tr>\n",
       "    <tr>\n",
       "      <th>25p</th>\n",
       "      <td>34015.4800</td>\n",
       "    </tr>\n",
       "    <tr>\n",
       "      <th>50p</th>\n",
       "      <td>70308.2100</td>\n",
       "    </tr>\n",
       "    <tr>\n",
       "      <th>75p</th>\n",
       "      <td>107735.5100</td>\n",
       "    </tr>\n",
       "  </tbody>\n",
       "</table>\n",
       "</div>"
      ],
      "text/plain": [
       "        prevailing_wage\n",
       "count        25480.0000\n",
       "min              2.1367\n",
       "max         319210.2700\n",
       "mean         74455.8100\n",
       "median       70308.2100\n",
       "std          52815.9400\n",
       "25p          34015.4800\n",
       "50p          70308.2100\n",
       "75p         107735.5100"
      ]
     },
     "execution_count": 39,
     "metadata": {},
     "output_type": "execute_result"
    }
   ],
   "source": [
    "count_wage=len(visa_df['prevailing_wage'])\n",
    "min_wage=min(visa_df['prevailing_wage'])\n",
    "max_wage=max(visa_df['prevailing_wage'])\n",
    "mean_wage=round(visa_df['prevailing_wage'].mean(),2)\n",
    "median_wage=round(visa_df['prevailing_wage'].median(),2)\n",
    "std_wage=round(visa_df['prevailing_wage'].std(),2)\n",
    "wage_25p=round(np.percentile(visa_df['prevailing_wage'],25),2)\n",
    "wage_50p=round(np.percentile(visa_df['prevailing_wage'],50),2)\n",
    "wage_75p=round(np.percentile(visa_df['prevailing_wage'],75),2)\n",
    "values=[count_wage,min_wage,max_wage,\n",
    "        mean_wage,median_wage,std_wage,wage_25p,wage_50p,wage_75p]\n",
    "index=['count','min','max','mean','median','std','25p','50p','75p']\n",
    "cols=['prevailing_wage']\n",
    "wage_df=pd.DataFrame(values,index=index,columns=cols)\n",
    "wage_df"
   ]
  },
  {
   "cell_type": "code",
   "execution_count": 1,
   "id": "3822a87e-f5d4-41ac-9808-5675f60658c6",
   "metadata": {},
   "outputs": [],
   "source": [
    "# Import the packages \n",
    "# and read the data\n",
    "import numpy as np\n",
    "import pandas as pd\n",
    "import matplotlib.pyplot as plt\n",
    "import seaborn as sns"
   ]
  },
  {
   "cell_type": "code",
   "execution_count": 2,
   "id": "7a49d370-27c0-47b0-80f3-5c021d22d10e",
   "metadata": {},
   "outputs": [
    {
     "data": {
      "text/html": [
       "<div>\n",
       "<style scoped>\n",
       "    .dataframe tbody tr th:only-of-type {\n",
       "        vertical-align: middle;\n",
       "    }\n",
       "\n",
       "    .dataframe tbody tr th {\n",
       "        vertical-align: top;\n",
       "    }\n",
       "\n",
       "    .dataframe thead th {\n",
       "        text-align: right;\n",
       "    }\n",
       "</style>\n",
       "<table border=\"1\" class=\"dataframe\">\n",
       "  <thead>\n",
       "    <tr style=\"text-align: right;\">\n",
       "      <th></th>\n",
       "      <th>case_id</th>\n",
       "      <th>continent</th>\n",
       "      <th>education_of_employee</th>\n",
       "      <th>has_job_experience</th>\n",
       "      <th>requires_job_training</th>\n",
       "      <th>no_of_employees</th>\n",
       "      <th>yr_of_estab</th>\n",
       "      <th>region_of_employment</th>\n",
       "      <th>prevailing_wage</th>\n",
       "      <th>unit_of_wage</th>\n",
       "      <th>full_time_position</th>\n",
       "      <th>case_status</th>\n",
       "    </tr>\n",
       "  </thead>\n",
       "  <tbody>\n",
       "    <tr>\n",
       "      <th>0</th>\n",
       "      <td>EZYV01</td>\n",
       "      <td>Asia</td>\n",
       "      <td>High School</td>\n",
       "      <td>N</td>\n",
       "      <td>N</td>\n",
       "      <td>14513</td>\n",
       "      <td>2007</td>\n",
       "      <td>West</td>\n",
       "      <td>592.2029</td>\n",
       "      <td>Hour</td>\n",
       "      <td>Y</td>\n",
       "      <td>Denied</td>\n",
       "    </tr>\n",
       "    <tr>\n",
       "      <th>1</th>\n",
       "      <td>EZYV02</td>\n",
       "      <td>Asia</td>\n",
       "      <td>Master's</td>\n",
       "      <td>Y</td>\n",
       "      <td>N</td>\n",
       "      <td>2412</td>\n",
       "      <td>2002</td>\n",
       "      <td>Northeast</td>\n",
       "      <td>83425.6500</td>\n",
       "      <td>Year</td>\n",
       "      <td>Y</td>\n",
       "      <td>Certified</td>\n",
       "    </tr>\n",
       "    <tr>\n",
       "      <th>2</th>\n",
       "      <td>EZYV03</td>\n",
       "      <td>Asia</td>\n",
       "      <td>Bachelor's</td>\n",
       "      <td>N</td>\n",
       "      <td>Y</td>\n",
       "      <td>44444</td>\n",
       "      <td>2008</td>\n",
       "      <td>West</td>\n",
       "      <td>122996.8600</td>\n",
       "      <td>Year</td>\n",
       "      <td>Y</td>\n",
       "      <td>Denied</td>\n",
       "    </tr>\n",
       "    <tr>\n",
       "      <th>3</th>\n",
       "      <td>EZYV04</td>\n",
       "      <td>Asia</td>\n",
       "      <td>Bachelor's</td>\n",
       "      <td>N</td>\n",
       "      <td>N</td>\n",
       "      <td>98</td>\n",
       "      <td>1897</td>\n",
       "      <td>West</td>\n",
       "      <td>83434.0300</td>\n",
       "      <td>Year</td>\n",
       "      <td>Y</td>\n",
       "      <td>Denied</td>\n",
       "    </tr>\n",
       "    <tr>\n",
       "      <th>4</th>\n",
       "      <td>EZYV05</td>\n",
       "      <td>Africa</td>\n",
       "      <td>Master's</td>\n",
       "      <td>Y</td>\n",
       "      <td>N</td>\n",
       "      <td>1082</td>\n",
       "      <td>2005</td>\n",
       "      <td>South</td>\n",
       "      <td>149907.3900</td>\n",
       "      <td>Year</td>\n",
       "      <td>Y</td>\n",
       "      <td>Certified</td>\n",
       "    </tr>\n",
       "  </tbody>\n",
       "</table>\n",
       "</div>"
      ],
      "text/plain": [
       "  case_id continent education_of_employee has_job_experience  \\\n",
       "0  EZYV01      Asia           High School                  N   \n",
       "1  EZYV02      Asia              Master's                  Y   \n",
       "2  EZYV03      Asia            Bachelor's                  N   \n",
       "3  EZYV04      Asia            Bachelor's                  N   \n",
       "4  EZYV05    Africa              Master's                  Y   \n",
       "\n",
       "  requires_job_training  no_of_employees  yr_of_estab region_of_employment  \\\n",
       "0                     N            14513         2007                 West   \n",
       "1                     N             2412         2002            Northeast   \n",
       "2                     Y            44444         2008                 West   \n",
       "3                     N               98         1897                 West   \n",
       "4                     N             1082         2005                South   \n",
       "\n",
       "   prevailing_wage unit_of_wage full_time_position case_status  \n",
       "0         592.2029         Hour                  Y      Denied  \n",
       "1       83425.6500         Year                  Y   Certified  \n",
       "2      122996.8600         Year                  Y      Denied  \n",
       "3       83434.0300         Year                  Y      Denied  \n",
       "4      149907.3900         Year                  Y   Certified  "
      ]
     },
     "execution_count": 2,
     "metadata": {},
     "output_type": "execute_result"
    }
   ],
   "source": [
    "visa_df=pd.read_csv(\"Visadataset.csv\")\n",
    "visa_df.head()"
   ]
  },
  {
   "cell_type": "code",
   "execution_count": 3,
   "id": "38004891-baa3-4673-afdb-eabb9fef05da",
   "metadata": {},
   "outputs": [
    {
     "data": {
      "text/plain": [
       "Index(['no_of_employees', 'yr_of_estab', 'prevailing_wage'], dtype='object')"
      ]
     },
     "execution_count": 3,
     "metadata": {},
     "output_type": "execute_result"
    }
   ],
   "source": [
    "cat_columns=visa_df.select_dtypes(include='object').columns\n",
    "num_columns=visa_df.select_dtypes(exclude='object').columns\n",
    "num_columns"
   ]
  },
  {
   "cell_type": "code",
   "execution_count": 9,
   "id": "f1234d6e-4b97-4d7d-be1f-203ee4b5d5df",
   "metadata": {},
   "outputs": [],
   "source": [
    "df1=pd.DataFrame()\n",
    "\n",
    "for i in num_columns:\n",
    "    Count=len(visa_df[i])\n",
    "    Min=min(visa_df[i])\n",
    "    Max=max(visa_df[i])\n",
    "    Mean=round(visa_df[i].mean(),2)\n",
    "    Median=round(visa_df[i].median(),2)\n",
    "    Std=round(visa_df[i].std(),2)\n",
    "    p_25=round(np.percentile(visa_df[i],25),2)\n",
    "    p_50=round(np.percentile(visa_df[i],50),2)\n",
    "    p_75=round(np.percentile(visa_df[i],75),2)\n",
    "    values=[Count,Min,Max,\n",
    "            Mean,Median,Std,p_25,p_50,p_75]\n",
    "    index=['count','min','max','mean','median','std','25p','50p','75p']\n",
    "    cols=[i]\n",
    "    df2=pd.DataFrame(values,index=index,columns=cols)\n",
    "    df1=pd.concat([df1,df2],axis=1)"
   ]
  },
  {
   "cell_type": "code",
   "execution_count": 11,
   "id": "052787c5-262e-4042-8a56-c4c122ce12f3",
   "metadata": {},
   "outputs": [
    {
     "data": {
      "text/html": [
       "<div>\n",
       "<style scoped>\n",
       "    .dataframe tbody tr th:only-of-type {\n",
       "        vertical-align: middle;\n",
       "    }\n",
       "\n",
       "    .dataframe tbody tr th {\n",
       "        vertical-align: top;\n",
       "    }\n",
       "\n",
       "    .dataframe thead th {\n",
       "        text-align: right;\n",
       "    }\n",
       "</style>\n",
       "<table border=\"1\" class=\"dataframe\">\n",
       "  <thead>\n",
       "    <tr style=\"text-align: right;\">\n",
       "      <th></th>\n",
       "      <th>no_of_employees</th>\n",
       "      <th>yr_of_estab</th>\n",
       "      <th>prevailing_wage</th>\n",
       "    </tr>\n",
       "  </thead>\n",
       "  <tbody>\n",
       "    <tr>\n",
       "      <th>count</th>\n",
       "      <td>25480.00</td>\n",
       "      <td>25480.00</td>\n",
       "      <td>25480.0000</td>\n",
       "    </tr>\n",
       "    <tr>\n",
       "      <th>min</th>\n",
       "      <td>-26.00</td>\n",
       "      <td>1800.00</td>\n",
       "      <td>2.1367</td>\n",
       "    </tr>\n",
       "    <tr>\n",
       "      <th>max</th>\n",
       "      <td>602069.00</td>\n",
       "      <td>2016.00</td>\n",
       "      <td>319210.2700</td>\n",
       "    </tr>\n",
       "    <tr>\n",
       "      <th>mean</th>\n",
       "      <td>5667.04</td>\n",
       "      <td>1979.41</td>\n",
       "      <td>74455.8100</td>\n",
       "    </tr>\n",
       "    <tr>\n",
       "      <th>median</th>\n",
       "      <td>2109.00</td>\n",
       "      <td>1997.00</td>\n",
       "      <td>70308.2100</td>\n",
       "    </tr>\n",
       "    <tr>\n",
       "      <th>std</th>\n",
       "      <td>22877.93</td>\n",
       "      <td>42.37</td>\n",
       "      <td>52815.9400</td>\n",
       "    </tr>\n",
       "    <tr>\n",
       "      <th>25p</th>\n",
       "      <td>1022.00</td>\n",
       "      <td>1976.00</td>\n",
       "      <td>34015.4800</td>\n",
       "    </tr>\n",
       "    <tr>\n",
       "      <th>50p</th>\n",
       "      <td>2109.00</td>\n",
       "      <td>1997.00</td>\n",
       "      <td>70308.2100</td>\n",
       "    </tr>\n",
       "    <tr>\n",
       "      <th>75p</th>\n",
       "      <td>3504.00</td>\n",
       "      <td>2005.00</td>\n",
       "      <td>107735.5100</td>\n",
       "    </tr>\n",
       "  </tbody>\n",
       "</table>\n",
       "</div>"
      ],
      "text/plain": [
       "        no_of_employees  yr_of_estab  prevailing_wage\n",
       "count          25480.00     25480.00       25480.0000\n",
       "min              -26.00      1800.00           2.1367\n",
       "max           602069.00      2016.00      319210.2700\n",
       "mean            5667.04      1979.41       74455.8100\n",
       "median          2109.00      1997.00       70308.2100\n",
       "std            22877.93        42.37       52815.9400\n",
       "25p             1022.00      1976.00       34015.4800\n",
       "50p             2109.00      1997.00       70308.2100\n",
       "75p             3504.00      2005.00      107735.5100"
      ]
     },
     "execution_count": 11,
     "metadata": {},
     "output_type": "execute_result"
    }
   ],
   "source": [
    "df1"
   ]
  },
  {
   "cell_type": "markdown",
   "id": "3627ebf5-dee2-4017-b726-f0ba1b9fda1e",
   "metadata": {},
   "source": [
    "**Percentiles**\n",
    "\n",
    "- 25p:\n",
    "\n",
    "    - Assume that 25p value = x\n",
    "\n",
    "    - 25percentage of data less than value : x\n",
    " \n",
    "- For example prevailing_Wage 25p value is : 34015.47\n",
    "\n",
    "- 25 percentage of people having salary less than 34015.47\n",
    "\n",
    "- Total members : 25480\n",
    "\n",
    "- 25percentage of 25480=6370\n",
    "\n",
    "- which means 6370 people has salary less than 34015.47\n",
    "\n"
   ]
  },
  {
   "cell_type": "code",
   "execution_count": 12,
   "id": "9f780385-d168-4c87-baa0-6d352d293c8b",
   "metadata": {},
   "outputs": [
    {
     "data": {
      "text/plain": [
       "34015.479999999996"
      ]
     },
     "execution_count": 12,
     "metadata": {},
     "output_type": "execute_result"
    }
   ],
   "source": [
    "np.percentile(visa_df['prevailing_wage'],25)"
   ]
  },
  {
   "cell_type": "code",
   "execution_count": 13,
   "id": "e798a779-575e-44ec-bcc5-c5ccce08a5c4",
   "metadata": {},
   "outputs": [
    {
     "data": {
      "text/plain": [
       "6370.0"
      ]
     },
     "execution_count": 13,
     "metadata": {},
     "output_type": "execute_result"
    }
   ],
   "source": [
    "25*25480/100"
   ]
  },
  {
   "cell_type": "code",
   "execution_count": 16,
   "id": "90dcf638-0d3f-4719-b1e6-4b8f6c55549c",
   "metadata": {},
   "outputs": [
    {
     "data": {
      "text/plain": [
       "6370"
      ]
     },
     "execution_count": 16,
     "metadata": {},
     "output_type": "execute_result"
    }
   ],
   "source": [
    "# step-1: Read the prevailaing wage\n",
    "# Step-2: provide the condition \n",
    "#         prevailing wage < percentile value\n",
    "\n",
    "wage_data=visa_df['prevailing_wage']\n",
    "p_25=np.percentile(visa_df['prevailing_wage'],25)\n",
    "con=wage_data<p_25\n",
    "len(visa_df[con])"
   ]
  },
  {
   "cell_type": "markdown",
   "id": "891546a6-f1c9-4a2d-b6d6-ca390bcf69d3",
   "metadata": {},
   "source": [
    "- 50p:\n",
    "\n",
    "    - Assume that 50p value = x\n",
    "\n",
    "    - 50percentage of data less than value : x\n",
    " \n",
    "- For example prevailing_Wage 50p value is : 70308\n",
    "\n",
    "- 50 percentage of people having salary less than 70308\n",
    "\n",
    "- Total members : 25480\n",
    "\n",
    "- 50percentage of 25480= 12740\n",
    "\n",
    "- which means 12740 people has salary less than 70308\n",
    "\n"
   ]
  },
  {
   "cell_type": "code",
   "execution_count": 17,
   "id": "7a200fad-b328-44d7-b5f4-371ad143a66d",
   "metadata": {},
   "outputs": [
    {
     "data": {
      "text/plain": [
       "12740"
      ]
     },
     "execution_count": 17,
     "metadata": {},
     "output_type": "execute_result"
    }
   ],
   "source": [
    "wage_data=visa_df['prevailing_wage']\n",
    "p_50=np.percentile(visa_df['prevailing_wage'],50)\n",
    "con=wage_data<p_50\n",
    "len(visa_df[con])"
   ]
  },
  {
   "cell_type": "code",
   "execution_count": 20,
   "id": "852b905b-89f2-49ef-a007-caca6ea45200",
   "metadata": {},
   "outputs": [
    {
     "data": {
      "text/plain": [
       "0         True\n",
       "1         True\n",
       "2        False\n",
       "3         True\n",
       "4        False\n",
       "         ...  \n",
       "25475     True\n",
       "25476    False\n",
       "25477    False\n",
       "25478     True\n",
       "25479     True\n",
       "Name: prevailing_wage, Length: 25480, dtype: bool"
      ]
     },
     "execution_count": 20,
     "metadata": {},
     "output_type": "execute_result"
    }
   ],
   "source": [
    "wage_data=visa_df['prevailing_wage']\n",
    "p_75=np.percentile(visa_df['prevailing_wage'],75)\n",
    "wage_data<p_75"
   ]
  },
  {
   "cell_type": "code",
   "execution_count": 18,
   "id": "daeb9c97-2ed5-445b-8256-922f61eab280",
   "metadata": {},
   "outputs": [
    {
     "data": {
      "text/plain": [
       "19110"
      ]
     },
     "execution_count": 18,
     "metadata": {},
     "output_type": "execute_result"
    }
   ],
   "source": [
    "wage_data=visa_df['prevailing_wage']\n",
    "p_75=np.percentile(visa_df['prevailing_wage'],75)\n",
    "con=wage_data<p_75\n",
    "len(visa_df[con])"
   ]
  },
  {
   "cell_type": "markdown",
   "id": "26117280-dc59-44ec-b11f-ae61eadc48df",
   "metadata": {},
   "source": [
    "**Emerical Rule**\n",
    "\n",
    "  <img id=\"dimg_357\" src=\"data:image/jpeg;base64,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\" class=\"YQ4gaf\" height=\"159\" style=\"object-position:0% 25%\" width=\"318\" alt=\"Empirical Rule (68-95-99.7) Explained ...\" data-csiid=\"ePuyZs7WA66a4-EPwrWJOQ_24\" data-atf=\"1\">"
   ]
  },
  {
   "cell_type": "markdown",
   "id": "3a1382ef-95b9-4260-aaa4-7a043c0d4b26",
   "metadata": {},
   "source": [
    "mean-1*std to mean+1*std : 68%\n",
    "\n",
    "mean-2*std to mean+2*std : 95%\n",
    "\n",
    "mean-3*std to mean+3*std : 99.7%\n"
   ]
  },
  {
   "cell_type": "code",
   "execution_count": null,
   "id": "05a68621-33d5-41ff-b9ec-c323627e6f9c",
   "metadata": {},
   "outputs": [],
   "source": [
    "# step-1: calculate the mean of prevaialing wage\n",
    "# step-2: calculate the std of prevailig wage\n",
    "# step-3: lb=mean-1*std\n",
    "# step-4: ub=mean+1*std\n",
    "# step-5: con1= data<ub\n",
    "# step-6: con2= data>lb\n",
    "# step-7: con3= con1 and con2\n",
    "# step-8: data[con3]\n",
    "\n",
    "# step-9: compare with 68% 25480 count"
   ]
  },
  {
   "cell_type": "code",
   "execution_count": 7,
   "id": "b688d3b2-9734-491d-b45f-dc560ea37e38",
   "metadata": {},
   "outputs": [
    {
     "name": "stdout",
     "output_type": "stream",
     "text": [
      "17171\n",
      "17326.4\n"
     ]
    }
   ],
   "source": [
    "mu = visa_df['prevailing_wage'].mean()\n",
    "sigma = visa_df['prevailing_wage'].std()\n",
    "lb = mu-1*sigma\n",
    "ub = mu+1*sigma\n",
    "con1=visa_df['prevailing_wage'] < ub\n",
    "con2=visa_df['prevailing_wage'] > lb\n",
    "con3= con1 & con2\n",
    "print(len(visa_df[con3]))\n",
    "print(68*len(visa_df)/100)"
   ]
  },
  {
   "cell_type": "code",
   "execution_count": 6,
   "id": "03c8b251-928a-4a3a-918f-d5bc82693ab1",
   "metadata": {},
   "outputs": [
    {
     "name": "stdout",
     "output_type": "stream",
     "text": [
      "24582\n",
      "24206.0\n"
     ]
    }
   ],
   "source": [
    "mu = visa_df['prevailing_wage'].mean()\n",
    "sigma = visa_df['prevailing_wage'].std()\n",
    "lb = mu-2*sigma\n",
    "ub = mu+2*sigma\n",
    "con1=visa_df['prevailing_wage'] < ub\n",
    "con2=visa_df['prevailing_wage'] > lb\n",
    "con3= con1 & con2\n",
    "print(len(visa_df[con3]))\n",
    "print(95*len(visa_df)/100)"
   ]
  },
  {
   "cell_type": "code",
   "execution_count": 1,
   "id": "63ecf6dd-be5e-4963-a466-9343f59925b0",
   "metadata": {},
   "outputs": [
    {
     "data": {
      "text/plain": [
       "Index(['no_of_employees', 'yr_of_estab', 'prevailing_wage'], dtype='object')"
      ]
     },
     "execution_count": 1,
     "metadata": {},
     "output_type": "execute_result"
    }
   ],
   "source": [
    "# Import the packages\n",
    "# Read the data\n",
    "\n",
    "import numpy as np\n",
    "import pandas as pd\n",
    "import matplotlib.pyplot as plt\n",
    "import seaborn as sns\n",
    "\n",
    "visa_df=pd.read_csv(\"Visadataset.csv\")\n",
    "\n",
    "cat_columns=visa_df.select_dtypes(include='object').columns\n",
    "num_columns=visa_df.select_dtypes(exclude='object').columns\n",
    "num_columns"
   ]
  },
  {
   "cell_type": "markdown",
   "id": "03239211-ec23-4e6b-a052-fa4f77f42ebb",
   "metadata": {},
   "source": [
    "**Describe**"
   ]
  },
  {
   "cell_type": "code",
   "execution_count": 8,
   "id": "b755a4fa-6218-4acf-9df0-5073fb81b032",
   "metadata": {},
   "outputs": [
    {
     "data": {
      "text/html": [
       "<div>\n",
       "<style scoped>\n",
       "    .dataframe tbody tr th:only-of-type {\n",
       "        vertical-align: middle;\n",
       "    }\n",
       "\n",
       "    .dataframe tbody tr th {\n",
       "        vertical-align: top;\n",
       "    }\n",
       "\n",
       "    .dataframe thead th {\n",
       "        text-align: right;\n",
       "    }\n",
       "</style>\n",
       "<table border=\"1\" class=\"dataframe\">\n",
       "  <thead>\n",
       "    <tr style=\"text-align: right;\">\n",
       "      <th></th>\n",
       "      <th>no_of_employees</th>\n",
       "      <th>yr_of_estab</th>\n",
       "      <th>prevailing_wage</th>\n",
       "    </tr>\n",
       "  </thead>\n",
       "  <tbody>\n",
       "    <tr>\n",
       "      <th>count</th>\n",
       "      <td>25480.000000</td>\n",
       "      <td>25480.000000</td>\n",
       "      <td>25480.000000</td>\n",
       "    </tr>\n",
       "    <tr>\n",
       "      <th>mean</th>\n",
       "      <td>5667.043210</td>\n",
       "      <td>1979.409929</td>\n",
       "      <td>74455.814592</td>\n",
       "    </tr>\n",
       "    <tr>\n",
       "      <th>std</th>\n",
       "      <td>22877.928848</td>\n",
       "      <td>42.366929</td>\n",
       "      <td>52815.942327</td>\n",
       "    </tr>\n",
       "    <tr>\n",
       "      <th>min</th>\n",
       "      <td>-26.000000</td>\n",
       "      <td>1800.000000</td>\n",
       "      <td>2.136700</td>\n",
       "    </tr>\n",
       "    <tr>\n",
       "      <th>25%</th>\n",
       "      <td>1022.000000</td>\n",
       "      <td>1976.000000</td>\n",
       "      <td>34015.480000</td>\n",
       "    </tr>\n",
       "    <tr>\n",
       "      <th>50%</th>\n",
       "      <td>2109.000000</td>\n",
       "      <td>1997.000000</td>\n",
       "      <td>70308.210000</td>\n",
       "    </tr>\n",
       "    <tr>\n",
       "      <th>75%</th>\n",
       "      <td>3504.000000</td>\n",
       "      <td>2005.000000</td>\n",
       "      <td>107735.512500</td>\n",
       "    </tr>\n",
       "    <tr>\n",
       "      <th>max</th>\n",
       "      <td>602069.000000</td>\n",
       "      <td>2016.000000</td>\n",
       "      <td>319210.270000</td>\n",
       "    </tr>\n",
       "  </tbody>\n",
       "</table>\n",
       "</div>"
      ],
      "text/plain": [
       "       no_of_employees   yr_of_estab  prevailing_wage\n",
       "count     25480.000000  25480.000000     25480.000000\n",
       "mean       5667.043210   1979.409929     74455.814592\n",
       "std       22877.928848     42.366929     52815.942327\n",
       "min         -26.000000   1800.000000         2.136700\n",
       "25%        1022.000000   1976.000000     34015.480000\n",
       "50%        2109.000000   1997.000000     70308.210000\n",
       "75%        3504.000000   2005.000000    107735.512500\n",
       "max      602069.000000   2016.000000    319210.270000"
      ]
     },
     "execution_count": 8,
     "metadata": {},
     "output_type": "execute_result"
    }
   ],
   "source": [
    "visa_df.describe()"
   ]
  },
  {
   "cell_type": "markdown",
   "id": "0fbe4d53-1434-4c32-b60f-6d76662bd7e7",
   "metadata": {},
   "source": [
    "**Histogram**"
   ]
  },
  {
   "cell_type": "markdown",
   "id": "34ee8b3b-48c5-47b3-9965-e19da620fb81",
   "metadata": {},
   "source": [
    "- By applying Imperical rule we observed slight deviation in the count of data\n",
    "\n",
    "- Also Mean is slightly deviated from Median\n",
    "\n",
    "- This gives an indication the data does not follows Normal distribution\n",
    "\n",
    "- To understand more clearly will visulaize the data\n",
    "\n",
    "- Its is Numerical data,so The plot name is: **Histogram**\n",
    "\n",
    "- Histogram is a graph between Class intervals and Class Interval frequeny\n",
    "\n",
    "- The plot is avialable in **matplotlib**\n",
    "\n",
    "- The method name is **hist**"
   ]
  },
  {
   "cell_type": "code",
   "execution_count": 12,
   "id": "73ed00ce-5df1-485a-8de2-0a25e4492dd7",
   "metadata": {
    "scrolled": true
   },
   "outputs": [
    {
     "data": {
      "text/plain": [
       "(array([3863., 2175., 2676., 2828., 2889., 2792., 2485., 2066., 1452.,\n",
       "         882.,  408.,  216.,  206.,  167.,  129.,  111.,   66.,   48.,\n",
       "          10.,   11.]),\n",
       " array([2.13670000e+00, 1.59625434e+04, 3.19229500e+04, 4.78833567e+04,\n",
       "        6.38437634e+04, 7.98041700e+04, 9.57645767e+04, 1.11724983e+05,\n",
       "        1.27685390e+05, 1.43645797e+05, 1.59606203e+05, 1.75566610e+05,\n",
       "        1.91527017e+05, 2.07487423e+05, 2.23447830e+05, 2.39408237e+05,\n",
       "        2.55368643e+05, 2.71329050e+05, 2.87289457e+05, 3.03249863e+05,\n",
       "        3.19210270e+05]),\n",
       " <BarContainer object of 20 artists>)"
      ]
     },
     "execution_count": 12,
     "metadata": {},
     "output_type": "execute_result"
    },
    {
     "data": {
      "image/png": "[encoded data removed]",
      "text/plain": [
       "<Figure size 640x480 with 1 Axes>"
      ]
     },
     "metadata": {},
     "output_type": "display_data"
    }
   ],
   "source": [
    "# step-1: Read the prevaialing wage\n",
    "# step-2: plt.hist()\n",
    "wage_data=visa_df['prevailing_wage']\n",
    "plt.hist(wage_data,bins=20)"
   ]
  },
  {
   "cell_type": "markdown",
   "id": "9581e08e-89ca-4022-bbec-b3bbd4a6730d",
   "metadata": {},
   "source": [
    "- Histogram will return 3 values\n",
    "\n",
    "    - Interval count array \n",
    "\n",
    "        - we have 20 intervals , so we have 20 interval counts\n",
    "\n",
    "    - bins\n",
    "\n",
    "        - bins means number of intervals\n",
    "\n",
    "        - we have 20 intervals so we need 21 values\n",
    "\n",
    "    - will display how many intervals are avialable\n",
    "\n",
    "- For example in the bins array the first two forms one interval\n",
    "\n",
    "-  2.136 to 15962.543 the count is 3863\n",
    "\n",
    "- 3863 observation are available between 2.136 to 15962.543\n",
    "\n",
    "- silmilarly 2175 observations are avialble between (15962.5434, 31922.95)"
   ]
  },
  {
   "cell_type": "code",
   "execution_count": 13,
   "id": "44263711-e0eb-47bc-a2b6-f69bfa6d4d47",
   "metadata": {},
   "outputs": [
    {
     "data": {
      "text/plain": [
       "15962.5434"
      ]
     },
     "execution_count": 13,
     "metadata": {},
     "output_type": "execute_result"
    }
   ],
   "source": [
    "1.59625434e+04"
   ]
  },
  {
   "cell_type": "code",
   "execution_count": 14,
   "id": "57db212b-08fd-4e80-b327-d4710ad268be",
   "metadata": {},
   "outputs": [
    {
     "data": {
      "text/plain": [
       "(15962.5434, 31922.95)"
      ]
     },
     "execution_count": 14,
     "metadata": {},
     "output_type": "execute_result"
    }
   ],
   "source": [
    "1.59625434e+04, 3.19229500e+04,"
   ]
  },
  {
   "cell_type": "code",
   "execution_count": 18,
   "id": "dce278b2-f383-42c2-962d-b20cbe6bc624",
   "metadata": {},
   "outputs": [
    {
     "name": "stdout",
     "output_type": "stream",
     "text": [
      "20\n",
      "21\n",
      "<BarContainer object of 20 artists>\n"
     ]
    },
    {
     "data": {
      "image/png": "[encoded data removed]",
      "text/plain": [
       "<Figure size 640x480 with 1 Axes>"
      ]
     },
     "metadata": {},
     "output_type": "display_data"
    }
   ],
   "source": [
    "wage_data=visa_df['prevailing_wage']\n",
    "count,bins,x=plt.hist(wage_data,bins=20)\n",
    "print(len(count))\n",
    "print(len(bins))\n",
    "print(x)"
   ]
  },
  {
   "cell_type": "markdown",
   "id": "74e68106-2d01-4c43-bd8c-534aaa9ffe0c",
   "metadata": {},
   "source": [
    "**Verify below two statements**\n",
    "- 3863 observation are available between 2.136 to 15962.543\n",
    "\n",
    "- silmilarly 2175 observations are avialble between (15962.5434, 31922.95)"
   ]
  },
  {
   "cell_type": "code",
   "execution_count": 21,
   "id": "55e2fd1c-9d97-4cce-9183-ff884725a4e8",
   "metadata": {},
   "outputs": [
    {
     "name": "stdout",
     "output_type": "stream",
     "text": [
      "3863\n"
     ]
    }
   ],
   "source": [
    "lb = 2.13670000e+00\n",
    "ub =  1.59625434e+04\n",
    "con1=visa_df['prevailing_wage'] <= ub\n",
    "con2=visa_df['prevailing_wage'] >= lb\n",
    "con3= con1 & con2\n",
    "print(len(visa_df[con3]))\n"
   ]
  },
  {
   "cell_type": "code",
   "execution_count": 22,
   "id": "415d355e-ddf0-4d68-8137-54120190b1f8",
   "metadata": {},
   "outputs": [
    {
     "name": "stdout",
     "output_type": "stream",
     "text": [
      "2175\n"
     ]
    }
   ],
   "source": [
    "lb = 1.59625434e+04\n",
    "ub = 3.19229500e+04\n",
    "con1=visa_df['prevailing_wage'] <= ub\n",
    "con2=visa_df['prevailing_wage'] >= lb\n",
    "con3= con1 & con2\n",
    "print(len(visa_df[con3]))"
   ]
  },
  {
   "cell_type": "code",
   "execution_count": 23,
   "id": "75ee8736-b375-45f9-8b4f-67528da4ea6d",
   "metadata": {},
   "outputs": [
    {
     "data": {
      "text/plain": [
       "array([3863., 2175., 2676., 2828., 2889., 2792., 2485., 2066., 1452.,\n",
       "        882.,  408.,  216.,  206.,  167.,  129.,  111.,   66.,   48.,\n",
       "         10.,   11.])"
      ]
     },
     "execution_count": 23,
     "metadata": {},
     "output_type": "execute_result"
    }
   ],
   "source": [
    "count"
   ]
  },
  {
   "cell_type": "code",
   "execution_count": 24,
   "id": "99a5ca70-b17e-4152-ab7b-a9af4fff5715",
   "metadata": {},
   "outputs": [
    {
     "data": {
      "text/plain": [
       "array([2.13670000e+00, 1.59625434e+04, 3.19229500e+04, 4.78833567e+04,\n",
       "       6.38437634e+04, 7.98041700e+04, 9.57645767e+04, 1.11724983e+05,\n",
       "       1.27685390e+05, 1.43645797e+05, 1.59606203e+05, 1.75566610e+05,\n",
       "       1.91527017e+05, 2.07487423e+05, 2.23447830e+05, 2.39408237e+05,\n",
       "       2.55368643e+05, 2.71329050e+05, 2.87289457e+05, 3.03249863e+05,\n",
       "       3.19210270e+05])"
      ]
     },
     "execution_count": 24,
     "metadata": {},
     "output_type": "execute_result"
    }
   ],
   "source": [
    "bins"
   ]
  },
  {
   "cell_type": "code",
   "execution_count": null,
   "id": "7dd8b843-bdcd-4a7b-b0f4-4c9546d88dee",
   "metadata": {},
   "outputs": [],
   "source": []
  }
 ],
 "metadata": {
  "kernelspec": {
   "display_name": "Python 3 (ipykernel)",
   "language": "python",
   "name": "python3"
  },
  "language_info": {
   "codemirror_mode": {
    "name": "ipython",
    "version": 3
   },
   "file_extension": ".py",
   "mimetype": "text/x-python",
   "name": "python",
   "nbconvert_exporter": "python",
   "pygments_lexer": "ipython3",
   "version": "3.11.7"
  }
 },
 "nbformat": 4,
 "nbformat_minor": 5
}
